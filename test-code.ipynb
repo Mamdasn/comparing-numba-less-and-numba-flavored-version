{
 "cells": [
  {
   "cell_type": "markdown",
   "metadata": {},
   "source": [
    "## Comparing a numba-less version and numba-flavored version of the same code base"
   ]
  },
  {
   "cell_type": "markdown",
   "metadata": {},
   "source": [
    "I recently added [im2dhisteq](https://github.com/Mamdasn/im2dhisteq) to my repository and because it was very slow, I searched for a new way to make my code run faster, as I was already using numpy built-in functions and there were no (at least easy) other way to optimize the code using just numpy."
   ]
  },
  {
   "cell_type": "markdown",
   "metadata": {},
   "source": [
    "I recently found out about numba, which is advertised to run my codes 1000 times faster, but as I later found out the degree of that is actually very dependant on your code.  "
   ]
  },
  {
   "cell_type": "markdown",
   "metadata": {},
   "source": [
    "After reading through their website and through a long series of trials and erros I learned how to write a code that is numba-friendly and is satisfyingly faster than my base code.  "
   ]
  },
  {
   "cell_type": "markdown",
   "metadata": {},
   "source": [
    "In my repository, in addition to the numba-flavord versions, I released the numba-less versions, which are accessible here: [im2dhisteq](https://github.com/Mamdasn/im2dhisteq/releases) and [imhist](https://github.com/Mamdasn/im2dhist/releases). You can check them out and compare them to come to a base understanding of how numba-friendly codes looks like.\n"
   ]
  },
  {
   "cell_type": "markdown",
   "metadata": {},
   "source": [
    "This is just a showcase, but if you want to check its authenticity, firstly you need to download and extract both versions of numba-less and numba-flavord and follow comments."
   ]
  },
  {
   "cell_type": "code",
   "execution_count": null,
   "metadata": {},
   "outputs": [],
   "source": [
    "import numpy as np\n",
    "import cv2\n",
    "import im2dhisteq\n",
    "\n",
    "img = cv2.imread('cloudy-day.jpg')\n",
    "hsv = cv2.cvtColor(img, cv2.COLOR_BGR2HSV)\n",
    "v = hsv[:, :, 2].copy()"
   ]
  },
  {
   "cell_type": "code",
   "execution_count": null,
   "metadata": {},
   "outputs": [],
   "source": [
    "# installing numba less version of im2dhisteq\n",
    "# !pip install -e im2dhist-0.1.0.9/. &> /dev/null; pip install -e im2dhisteq-0.0.2/. &> /dev/null\n",
    "# run above commented command, then restart your kernel and run the first cell before running this cell\n",
    "print('Before using numba:')\n",
    "%timeit vv = im2dhisteq.im2dhisteq(v)"
   ]
  },
  {
   "cell_type": "markdown",
   "metadata": {},
   "source": [
    "Before using numba:  \n",
    "2min 37s ± 8.84 s per loop (mean ± std. dev. of 7 runs, 1 loop each)"
   ]
  },
  {
   "cell_type": "code",
   "execution_count": null,
   "metadata": {},
   "outputs": [],
   "source": [
    "# installing numba flavored version of im2dhisteq\n",
    "# !pip install -e im2dhist &> /dev/null; pip install -e im2dhisteq &> /dev/null \n",
    "# run above commented command, then restart your kernel and run the first cell before running this cell\n",
    "\n",
    "print('After using numba:')\n",
    "%timeit vv = im2dhisteq.im2dhisteq(v)"
   ]
  },
  {
   "cell_type": "markdown",
   "metadata": {},
   "source": [
    "After using numba:  \n",
    "7.27 s 37s ± 319 ms per loop (mean ± std. dev. of 7 runs, 1 loop each)"
   ]
  },
  {
   "cell_type": "code",
   "execution_count": 7,
   "metadata": {},
   "outputs": [
    {
     "name": "stdout",
     "output_type": "stream",
     "text": [
      "numba-flavored version runs 21.6 times faster than the numba-less version\n"
     ]
    }
   ],
   "source": [
    "print(f\"numba-flavored version runs\\\n",
    " {round((2*60+37)/7.27, 1)} times faster\\\n",
    " than the numba-less version\")"
   ]
  },
  {
   "cell_type": "code",
   "execution_count": null,
   "metadata": {},
   "outputs": [],
   "source": []
  }
 ],
 "metadata": {
  "kernelspec": {
   "display_name": "Python 3",
   "language": "python",
   "name": "python3"
  },
  "language_info": {
   "codemirror_mode": {
    "name": "ipython",
    "version": 3
   },
   "file_extension": ".py",
   "mimetype": "text/x-python",
   "name": "python",
   "nbconvert_exporter": "python",
   "pygments_lexer": "ipython3",
   "version": "3.9.2"
  }
 },
 "nbformat": 4,
 "nbformat_minor": 4
}
