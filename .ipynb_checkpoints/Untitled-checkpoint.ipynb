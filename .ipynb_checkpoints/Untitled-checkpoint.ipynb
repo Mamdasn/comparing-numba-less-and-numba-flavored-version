{
 "cells": [
  {
   "cell_type": "code",
   "execution_count": 1,
   "metadata": {},
   "outputs": [],
   "source": [
    "import numpy as np\n",
    "import cv2\n",
    "import im2dhisteq\n",
    "\n",
    "img = cv2.imread('cloudy-day.jpg')\n",
    "hsv = cv2.cvtColor(img, cv2.COLOR_BGR2HSV)\n",
    "v = hsv[:, :, 2].copy()"
   ]
  },
  {
   "cell_type": "code",
   "execution_count": null,
   "metadata": {},
   "outputs": [],
   "source": [
    "# installing numba less version of im2dhisteq\n",
    "# !pip install -e im2dhist-0.1.0.9/im2dhist/. &> /dev/null; pip install -e im2dhisteq-0.0.2/im2dhisteq/. &> /dev/null\n",
    "\n",
    "print('Before using numba:')\n",
    "%timeit vv = im2dhisteq.im2dhisteq(v)"
   ]
  },
  {
   "cell_type": "code",
   "execution_count": null,
   "metadata": {},
   "outputs": [],
   "source": [
    "# installing numba flavored version of im2dhisteq\n",
    "# !pip install -e im2dhist &> /dev/null; pip install -e im2dhisteq &> /dev/null \n",
    "\n",
    "print('After using numba:')\n",
    "%timeit vv = im2dhisteq.im2dhisteq(v)"
   ]
  }
 ],
 "metadata": {
  "kernelspec": {
   "display_name": "Python 3",
   "language": "python",
   "name": "python3"
  },
  "language_info": {
   "codemirror_mode": {
    "name": "ipython",
    "version": 3
   },
   "file_extension": ".py",
   "mimetype": "text/x-python",
   "name": "python",
   "nbconvert_exporter": "python",
   "pygments_lexer": "ipython3",
   "version": "3.9.2"
  }
 },
 "nbformat": 4,
 "nbformat_minor": 4
}
